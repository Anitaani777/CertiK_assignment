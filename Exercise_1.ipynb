{
 "cells": [
  {
   "cell_type": "markdown",
   "id": "51c5ffe6",
   "metadata": {},
   "source": [
    "## Exercise 1. Finding the nonce. Given a string, pad it on the right with random alphanumeric characters such that the padded string is 100 in length and its SHA256 hash starts with “0000”. Please search online for how to compute the SHA265 hash in your language."
   ]
  },
  {
   "cell_type": "code",
   "execution_count": 21,
   "id": "c28e7f0e",
   "metadata": {},
   "outputs": [],
   "source": [
    "import hashlib"
   ]
  },
  {
   "cell_type": "code",
   "execution_count": 29,
   "id": "a05adaf3",
   "metadata": {},
   "outputs": [
    {
     "name": "stdout",
     "output_type": "stream",
     "text": [
      "gyuiiohugougyfy\n",
      "Start timestamp is %s 2022-02-20 08:51:32.107652\n",
      "2CBQJ3NTEVLNOZB6QNP6NGS6413ZGRUDUMYUR8P6V8C9ZAZ1S9FJNA25X0XACL8WPAN1ZTU1Q4V6CL09WEG65\n",
      "Elapsed time is %s 2022-02-20 08:51:32.179229\n",
      "00008f154cf565642ac0532a62445afb107577cf21164902bceae87faa37a7d6\n",
      "21456\n"
     ]
    }
   ],
   "source": [
    "import datetime\n",
    "import hashlib\n",
    "import random  \n",
    "import string  \n",
    "NONCE = 0\n",
    "data = input()\n",
    "n = len(data)\n",
    "n\n",
    "if n<=70:\n",
    "  S= 100-n\n",
    "\n",
    "d = datetime.datetime.now()\n",
    "print(\"Start timestamp is %s\",d)\n",
    "ran = ''.join(random.choices(string.ascii_uppercase + string.digits, k = S))  \n",
    "print(str(ran))\n",
    "sample = data+ran\n",
    "found =0\n",
    "block =123  \n",
    "if len(sample)==100:\n",
    "    while found==0:\n",
    "        z = str(NONCE)+sample\n",
    "        newHash= hashlib.sha256(z.encode()).hexdigest()\n",
    "        if newHash[:4]=='0000':\n",
    "            found=1\n",
    "        NONCE+=1\n",
    "d2= datetime.datetime.now()\n",
    "print(\"Elapsed time is %s\", d2)\n",
    "print(newHash)\n",
    "print(NONCE)"
   ]
  }
 ],
 "metadata": {
  "kernelspec": {
   "display_name": "Python 3 (ipykernel)",
   "language": "python",
   "name": "python3"
  },
  "language_info": {
   "codemirror_mode": {
    "name": "ipython",
    "version": 3
   },
   "file_extension": ".py",
   "mimetype": "text/x-python",
   "name": "python",
   "nbconvert_exporter": "python",
   "pygments_lexer": "ipython3",
   "version": "3.9.7"
  }
 },
 "nbformat": 4,
 "nbformat_minor": 5
}
