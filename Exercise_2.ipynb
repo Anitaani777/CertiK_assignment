{
 "cells": [
  {
   "cell_type": "markdown",
   "id": "5303326c",
   "metadata": {},
   "source": [
    "### construct a blockchain with ten blocks and verify it."
   ]
  },
  {
   "cell_type": "code",
   "execution_count": 21,
   "id": "ea5e9d0a",
   "metadata": {},
   "outputs": [
    {
     "name": "stdout",
     "output_type": "stream",
     "text": [
      "[{'nonce': 'EVSRXKLSXCVHGHCTJKFVMYGUDBERHEVOBMCCPMKXBYFLIZXYQCSCDEFUONQXFNJHAKCYMLWEZJLSAFJQPHKHTVTAJLTYOSFUAMD', 'miner': 0}, {'nonce': 'DMXKTTQZFFSFDWZBATWUKEVDZQSSIXNMHZT', 'miner': 0}, {'nonce': 'JYEFWYYTZYTYQCECBCMSRFWGJUCLZOQBCBK', 'miner': 0}, {'nonce': 'MYLHVBHFQXOHYHMTTTZSYLKAGTVXUSSRZZL', 'miner': 0}, {'nonce': 'HXSZOZTESLTKVFSJZAYSZGOJCUUCSIEMSCS', 'miner': 0}, {'nonce': 'PZWMFDBPWBRMKYVQHLLIGIRMWVPLSHAXUVP', 'miner': 0}, {'nonce': 'UNUZZKUOIWXTEJNTJGIKUKYOTMCWAJQHKMH', 'miner': 0}, {'nonce': 'JGNSFUYFTOPSNIRKPJHIHGCFOGUADJFZEGL', 'miner': 0}, {'nonce': 'HZJFVUZUOCSXKNCHJJCPFKWFFCQNZHGFACA', 'miner': 0}, {'nonce': 'MYQOKQQIRVEXSCWHVAARWBYMZKIBKZDZEYV', 'miner': 0}]\n",
      "Blockchain verified\n"
     ]
    }
   ],
   "source": [
    "import datetime\n",
    " \n",
    "import hashlib\n",
    "import json\n",
    "import math\n",
    "from random import random\n",
    "\n",
    "\n",
    "\n",
    "class Blockchain:\n",
    "   \n",
    "    \n",
    "    def __init__(self):\n",
    "        self.chain = []\n",
    "    \n",
    "    def create_block(self):\n",
    "        block = {'nonce': len(self.chain) + 1,\n",
    "                 'miner': 0,\n",
    "                 }\n",
    "        self.chain.append(block)\n",
    "        return block\n",
    "    \n",
    "    def makenonce(self,length):\n",
    "        result           = \"\";\n",
    "        characters       = \"ABCDEFGHIJKLMNOPQRSTUVWXYZ\"\n",
    "        for i in range(length):\n",
    "            result += characters[math.floor(random() * len(characters))];\n",
    "\n",
    "        return result\n",
    "\n",
    " \n",
    "\n",
    "    def mine_block(self,isGenesis):\n",
    "        Found = False\n",
    "\n",
    "        miner = 0\n",
    "        if isGenesis:\n",
    "            while Found == False:\n",
    "                nonce = self.makenonce(99)\n",
    "                inputhash = str(nonce) + str(miner)\n",
    "                hashval = hashlib.sha256(inputhash.encode()).hexdigest()\n",
    "                if hashval[:4] == \"0000\":\n",
    "                    Found = True\n",
    "        else:\n",
    "            while Found == False:\n",
    "                nonce = self.makenonce(35)\n",
    "                inputhash = str(nonce) + str(miner) + self.chain[-1]['hashval']\n",
    "                hashval = hashlib.sha256(inputhash.encode()).hexdigest()\n",
    "                if hashval[:4] == \"0000\":\n",
    "                    Found = True\n",
    "\n",
    "        \n",
    "        response = {'nonce': nonce,\n",
    "                    'miner':miner,\n",
    "                    'hashval': hashval}\n",
    "            \n",
    "        self.chain.append(response)\n",
    "    \n",
    "        return response\n",
    " \n",
    "\n",
    "\n",
    "blockchain = Blockchain()\n",
    "\n",
    "chain = []\n",
    "\n",
    "blockchain.mine_block(True)    \n",
    "\n",
    "for i in range(0,9):\n",
    "    blockchain.mine_block(False)\n",
    "\n",
    "    \n",
    "#Print blockchain blocks\n",
    "for i in range(0,10):\n",
    "    chain.append({'nonce': blockchain.chain[i]['nonce'],\n",
    "              'miner':blockchain.chain[i]['miner'],})\n",
    "\n",
    "print(chain)\n",
    "    \n",
    "    \n",
    "#Verify Blockchain\n",
    "def verify():\n",
    "    for i in range(0,10):\n",
    "        if not blockchain.chain[i]['hashval'][:4] == \"0000\":\n",
    "            print(\"Block invalid\")\n",
    "print(\"Blockchain verified\")\n",
    "\n",
    "verify()"
   ]
  },
  {
   "cell_type": "code",
   "execution_count": null,
   "id": "c8ecc6b2",
   "metadata": {},
   "outputs": [],
   "source": []
  }
 ],
 "metadata": {
  "kernelspec": {
   "display_name": "Python 3 (ipykernel)",
   "language": "python",
   "name": "python3"
  },
  "language_info": {
   "codemirror_mode": {
    "name": "ipython",
    "version": 3
   },
   "file_extension": ".py",
   "mimetype": "text/x-python",
   "name": "python",
   "nbconvert_exporter": "python",
   "pygments_lexer": "ipython3",
   "version": "3.9.7"
  }
 },
 "nbformat": 4,
 "nbformat_minor": 5
}
