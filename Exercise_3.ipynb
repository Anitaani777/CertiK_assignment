{
 "cells": [
  {
   "cell_type": "markdown",
   "id": "bdb2b42d",
   "metadata": {},
   "source": [
    "#### Please start K threads (2 <= K < 10) and let each thread store a string value into a local variable and then print the local variable. Please search online on how to use multiple threads.Please name each thread with a numerical ID. If there are K threads, the thread IDs will be 0, 1, 2, ..., K-1. Printing the thread IDs helps debugging. Here is an example output:Thread-0: [0] -- time: Thu Jul 1 02:29:26 2021 Thread-2: [2] -- time: Thu Jul 1 02:29:26 2021 Thread-1: [1] -- time: Thu Jul 1 02:29:26 2021 Thread-3: [3] -- time: Thu Jul 1 02:29:26 2021"
   ]
  },
  {
   "cell_type": "code",
   "execution_count": 1,
   "id": "968ac38c",
   "metadata": {},
   "outputs": [
    {
     "name": "stdout",
     "output_type": "stream",
     "text": [
      "4\n",
      "Thread - 1: [1] --time: Sun Feb 27 13:26:50 2022\n",
      "Thread - 2: [2] --time: Sun Feb 27 13:26:50 2022\n",
      "Thread - 3: [3] --time: Sun Feb 27 13:26:50 2022\n",
      "Thread - 4: [4] --time: Sun Feb 27 13:26:50 2022\n",
      "4\n"
     ]
    }
   ],
   "source": [
    "import threading\n",
    "import time\n",
    "from datetime import datetime\n",
    "\n",
    "debug_string = \"Thread - {0}: [{0}] --time: {time}\"\n",
    "def say(i):\n",
    "    dateTimeObj = datetime.now()\n",
    "    timestampStr = dateTimeObj.strftime(\"%a %b %d %H:%M:%S %Y\")\n",
    "    print(debug_string.format(i, time=timestampStr))\n",
    "\n",
    "n = int(input())\n",
    "thread_traker = []\n",
    "for i in range(1, n+1):\n",
    "    thread = threading.Thread(target=say, args=(i,))\n",
    "    thread.start()\n",
    "    thread_traker.append(thread)\n",
    "    thread.join()\n",
    "\n",
    "# Threads will automatically get stopped, but if you want to stop one of it specifically\n",
    "# if you want to kill all run it in a loop\n",
    "kill = int(input())\n",
    "stop_threads = True\n",
    "thread_traker[kill - 1].join()\n",
    "# or use sys.exit() to kill all other threads run by programs"
   ]
  }
 ],
 "metadata": {
  "kernelspec": {
   "display_name": "Python 3 (ipykernel)",
   "language": "python",
   "name": "python3"
  },
  "language_info": {
   "codemirror_mode": {
    "name": "ipython",
    "version": 3
   },
   "file_extension": ".py",
   "mimetype": "text/x-python",
   "name": "python",
   "nbconvert_exporter": "python",
   "pygments_lexer": "ipython3",
   "version": "3.9.7"
  }
 },
 "nbformat": 4,
 "nbformat_minor": 5
}
